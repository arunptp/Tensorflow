{
  "nbformat": 4,
  "nbformat_minor": 0,
  "metadata": {
    "colab": {
      "name": "Copy of Exercise 3 - Question.ipynb",
      "version": "0.3.2",
      "provenance": [],
      "collapsed_sections": [],
      "include_colab_link": true
    },
    "kernelspec": {
      "name": "python3",
      "display_name": "Python 3"
    },
    "accelerator": "GPU"
  },
  "cells": [
    {
      "cell_type": "markdown",
      "metadata": {
        "id": "view-in-github",
        "colab_type": "text"
      },
      "source": [
        "<a href=\"https://colab.research.google.com/github/arunptp/Tensorflow/blob/master/Copy_of_Exercise_3_Question.ipynb\" target=\"_parent\"><img src=\"https://colab.research.google.com/assets/colab-badge.svg\" alt=\"Open In Colab\"/></a>"
      ]
    },
    {
      "metadata": {
        "id": "iQjHqsmTAVLU",
        "colab_type": "text"
      },
      "cell_type": "markdown",
      "source": [
        "## Exercise 3\n",
        "In the videos you looked at how you would improve Fashion MNIST using Convolutions. For your exercise see if you can improve MNIST to 99.8% accuracy or more using only a single convolutional layer and a single MaxPooling 2D. You should stop training once the accuracy goes above this amount. It should happen in less than 20 epochs, so it's ok to hard code the number of epochs for training, but your training must end once it hits the above metric. If it doesn't, then you'll need to redesign your layers.\n",
        "\n",
        "I've started the code for you -- you need to finish it!\n",
        "\n",
        "When 99.8% accuracy has been hit, you should print out the string \"Reached 99.8% accuracy so cancelling training!\"\n"
      ]
    },
    {
      "metadata": {
        "id": "sfQRyaJWAIdg",
        "colab_type": "code",
        "outputId": "c8990a1b-2dee-4e9f-f67a-7c1bbc90e68e",
        "colab": {
          "base_uri": "https://localhost:8080/",
          "height": 353
        }
      },
      "cell_type": "code",
      "source": [
        "import tensorflow as tf\n",
        "\n",
        "class myCallbacks(tf.keras.callbacks.Callback):\n",
        "  def on_epoch_end(self, epoch, logs={}):\n",
        "    if(logs.get('acc') > 0.998):\n",
        "      print(\"\\n Reached training accuracy of 99.8%\")\n",
        "      self.model.stop_training = True\n",
        "  \n",
        "callbacks = myCallbacks()\n",
        "\n",
        "mnist = tf.keras.datasets.mnist\n",
        "(training_images, training_labels), (test_images, test_labels) = mnist.load_data()\n",
        "\n",
        "training_images = training_images.reshape(60000,28,28,1)\n",
        "test_images = test_images.reshape(10000,28,28,1)\n",
        "\n",
        "training_images = training_images / 255.0\n",
        "test_images = test_images /255.0\n",
        "\n",
        "\n",
        "model = tf.keras.models.Sequential([\n",
        "    tf.keras.layers.Conv2D(32,(3,3),activation='relu',input_shape=(28,28,1)),\n",
        "    tf.keras.layers.MaxPooling2D(2,2),\n",
        "    #tf.keras.layers.Conv2D(16,(2,2),activation='relu'),\n",
        "    #tf.keras.layers.MaxPooling2D(2,2),\n",
        "    tf.keras.layers.Flatten(),\n",
        "    tf.keras.layers.Dense(256,activation='relu'),\n",
        "    tf.keras.layers.Dense(10,activation='softmax') \n",
        "])\n",
        "\n",
        "model.compile(optimizer='adam',loss='sparse_categorical_crossentropy', metrics=['accuracy'])\n",
        "model.fit(training_images, training_labels, epochs=20, callbacks=[callbacks])\n",
        "model.evaluate(test_images, test_labels)\n",
        "\n",
        "\n"
      ],
      "execution_count": 0,
      "outputs": [
        {
          "output_type": "stream",
          "text": [
            "Epoch 1/20\n",
            "60000/60000 [==============================] - 14s 227us/sample - loss: 0.1386 - acc: 0.9585\n",
            "Epoch 2/20\n",
            "60000/60000 [==============================] - 14s 226us/sample - loss: 0.0471 - acc: 0.9854\n",
            "Epoch 3/20\n",
            "60000/60000 [==============================] - 13s 222us/sample - loss: 0.0270 - acc: 0.9911\n",
            "Epoch 4/20\n",
            "60000/60000 [==============================] - 13s 221us/sample - loss: 0.0173 - acc: 0.9944\n",
            "Epoch 5/20\n",
            "60000/60000 [==============================] - 13s 222us/sample - loss: 0.0111 - acc: 0.9963\n",
            "Epoch 6/20\n",
            "60000/60000 [==============================] - 13s 222us/sample - loss: 0.0093 - acc: 0.9971\n",
            "Epoch 7/20\n",
            "60000/60000 [==============================] - 13s 222us/sample - loss: 0.0075 - acc: 0.9974\n",
            "Epoch 8/20\n",
            "59904/60000 [============================>.] - ETA: 0s - loss: 0.0056 - acc: 0.9982\n",
            " Reached training accuracy of 99.8%\n",
            "60000/60000 [==============================] - 13s 221us/sample - loss: 0.0056 - acc: 0.9982\n",
            "10000/10000 [==============================] - 1s 94us/sample - loss: 0.0466 - acc: 0.9889\n"
          ],
          "name": "stdout"
        },
        {
          "output_type": "execute_result",
          "data": {
            "text/plain": [
              "[0.04663975837072685, 0.9889]"
            ]
          },
          "metadata": {
            "tags": []
          },
          "execution_count": 8
        }
      ]
    },
    {
      "metadata": {
        "id": "HEluiOK8-gsU",
        "colab_type": "code",
        "outputId": "9080c160-0ca6-46cd-e569-8b7b00e39429",
        "colab": {
          "base_uri": "https://localhost:8080/",
          "height": 370
        }
      },
      "cell_type": "code",
      "source": [
        "import tensorflow as tf\n",
        "\n",
        "class myCallback(tf.keras.callbacks.Callback):\n",
        "  def on_epoch_end(self, epoch, logs={}):\n",
        "    if(logs.get('acc')>0.998):\n",
        "      print(\"\\nReached 99.8% accuracy so cancelling training!\")\n",
        "      self.model.stop_training = True\n",
        "\n",
        "callbacks = myCallback()\n",
        "mnist = tf.keras.datasets.mnist\n",
        "(training_images, training_labels), (test_images, test_labels) = mnist.load_data()\n",
        "training_images=training_images.reshape(60000, 28, 28, 1)\n",
        "training_images=training_images / 255.0\n",
        "test_images = test_images.reshape(10000, 28, 28, 1)\n",
        "test_images=test_images/255.0\n",
        "model = tf.keras.models.Sequential([\n",
        "  tf.keras.layers.Conv2D(32, (3,3), activation='relu', input_shape=(28, 28, 1)),\n",
        "  tf.keras.layers.MaxPooling2D(2, 2),\n",
        "  tf.keras.layers.Flatten(),\n",
        "  tf.keras.layers.Dense(128, activation='relu'),\n",
        "  tf.keras.layers.Dense(10, activation='softmax')\n",
        "])\n",
        "model.compile(optimizer='adam', loss='sparse_categorical_crossentropy', metrics=['accuracy'])\n",
        "model.fit(training_images, training_labels, epochs=10, callbacks=[callbacks])\n"
      ],
      "execution_count": 0,
      "outputs": [
        {
          "output_type": "stream",
          "text": [
            "Epoch 1/10\n",
            "60000/60000 [==============================] - 11s 191us/sample - loss: 0.1526 - acc: 0.9545\n",
            "Epoch 2/10\n",
            "60000/60000 [==============================] - 11s 189us/sample - loss: 0.0519 - acc: 0.9847\n",
            "Epoch 3/10\n",
            "60000/60000 [==============================] - 11s 189us/sample - loss: 0.0332 - acc: 0.9901\n",
            "Epoch 4/10\n",
            "60000/60000 [==============================] - 11s 188us/sample - loss: 0.0214 - acc: 0.9934\n",
            "Epoch 5/10\n",
            "60000/60000 [==============================] - 11s 190us/sample - loss: 0.0141 - acc: 0.9954\n",
            "Epoch 6/10\n",
            "60000/60000 [==============================] - 11s 191us/sample - loss: 0.0111 - acc: 0.9965\n",
            "Epoch 7/10\n",
            "60000/60000 [==============================] - 11s 188us/sample - loss: 0.0078 - acc: 0.9974\n",
            "Epoch 8/10\n",
            "60000/60000 [==============================] - 11s 188us/sample - loss: 0.0069 - acc: 0.9977\n",
            "Epoch 9/10\n",
            "59936/60000 [============================>.] - ETA: 0s - loss: 0.0048 - acc: 0.9984\n",
            "Reached 99.8% accuracy so cancelling training!\n",
            "60000/60000 [==============================] - 11s 188us/sample - loss: 0.0048 - acc: 0.9984\n"
          ],
          "name": "stdout"
        },
        {
          "output_type": "execute_result",
          "data": {
            "text/plain": [
              "<tensorflow.python.keras.callbacks.History at 0x7f159aea0748>"
            ]
          },
          "metadata": {
            "tags": []
          },
          "execution_count": 5
        }
      ]
    }
  ]
}